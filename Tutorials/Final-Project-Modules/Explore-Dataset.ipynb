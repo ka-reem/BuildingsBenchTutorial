{
 "cells": [
  {
   "cell_type": "markdown",
   "id": "9cd26ce8",
   "metadata": {},
   "source": [
    "# Explanatory Data Analysis\n",
    "\n",
    "Your first task is to explore the dataset you’ve been assigned. It’s your responsibility to complete all the to-do steps and generate the following:\n",
    "\n",
    "- Identify the `type of dataset`\n",
    "- Print the `list of building IDs`\n",
    "- Select 3 random building IDs, and for a year within its available data range, determine and print the following: 1) `Start date` 2) `End date` 3) `Latitude` 4) `Longitude` 5) `Building type` 6) `Plot the data from day 1 for the selected buildings`\n",
    "\n",
    "__Important__: For this exercise, start by scrolling to the last cell and completing the first three `TODO` tasks. When you need to update the `plot_load` function, go to the cell above, make the necessary changes, and then return to the last cell to continue.`\n",
    "\n",
    "__TIP__: Please refer to the table below to view the data ranges and example building IDs for each dataset.\n",
    "\n",
    "```\n",
    "| Dataset    | Data Range  | Example ID     |\n",
    "|------------|-------------|----------------|\n",
    "| Ideal      | 2017–2018   | home241        |\n",
    "| Electricity| 2012–2014   | MT_061         |\n",
    "| lcl        | 2012–2013   | MAC003538      |\n",
    "| sceaux     | 2007–2010   | Sceaux         |\n",
    "| borealis   | 2011        | home25         |\n",
    "```\n",
    "\n",
    "Below is a screenshot of the output I generated. Your output should look similar. Feel free to modify the plot or adjust other features for your convenience, but only make changes where you see `# TODO:`. Do not edit any other sections of the code.\n",
    "\n",
    "![NN model architecture](../../Images/EDA.png)"
   ]
  },
  {
   "cell_type": "code",
   "execution_count": 4,
   "id": "ef29ca3d-3742-4ae5-80ff-ce495f403a43",
   "metadata": {},
   "outputs": [],
   "source": [
    "# ------------------- #\n",
    "# --- Do Not Edit --- #\n",
    "# ------------------- #\n",
    "\n",
    "import os\n",
    "from pathlib import Path\n",
    "from buildings_bench import load_torch_dataset\n",
    "from buildings_bench.transforms import TimestampTransform\n",
    "import matplotlib.pyplot as plt\n",
    "import numpy as np\n",
    "\n",
    "os.environ[\"BUILDINGS_BENCH\"] = \"/global/cfs/cdirs/m4388/Project4/Dataset\"\n",
    "\n",
    "class EDA:\n",
    "    def __init__(self, dataset_name, dataset):\n",
    "        self.name = dataset_name\n",
    "        self.datasets = dataset.building_datasets\n",
    "\n",
    "    @staticmethod\n",
    "    def reconstruct_datetime(data, year):\n",
    "        timestamp = np.concatenate([\n",
    "            data['day_of_year'],\n",
    "            data['day_of_week'],\n",
    "            data['hour_of_day']\n",
    "        ], axis=-1)\n",
    "\n",
    "        timestamp = TimestampTransform().undo_transform(timestamp)\n",
    "\n",
    "        dt = (\n",
    "            np.datetime64(f'{year}-01-01')\n",
    "            + np.timedelta64(1, 'D') * (timestamp[..., 0] - 1)\n",
    "            + np.timedelta64(1, 'h') * timestamp[..., -1]\n",
    "        )\n",
    "\n",
    "        return dt, timestamp\n",
    "\n",
    "    def dataset_summary(self):\n",
    "        print(f\"Dataset: {self.name}\")\n",
    "        print(f\"Type: {type(self.datasets)}\")\n",
    "        print(f\"Building IDs: {list(self.datasets.keys())}\")\n",
    "\n",
    "    def building_summary(self, building_id, year):\n",
    "        ds = dict(self.datasets[building_id])\n",
    "\n",
    "        data_start = ds[year][0]\n",
    "        data_end = ds[year][len(ds[year])]\n",
    "\n",
    "        dt_start, _ = self.reconstruct_datetime(data_start, year)\n",
    "        dt_end, _ = self.reconstruct_datetime(data_end, year)\n",
    "\n",
    "        lat = float(data_start['latitude'][0][0])\n",
    "        lon = float(data_start['longitude'][0][0])\n",
    "        btype = int(data_start['building_type'][0][0])\n",
    "\n",
    "        print(f\"Building ID: {building_id}\")\n",
    "        print(f\"Year: {year}\")\n",
    "        print(f\"Number of records in {building_id}: {len(ds[year])}\")\n",
    "        print(f\"Start date: {dt_start[0]}\")\n",
    "        print(f\"End date: {dt_end[-1]}\")\n",
    "        print(f\"Latitude: {lat:.4f}\")\n",
    "        print(f\"Longitude: {lon:.4f}\")\n",
    "        print(f\"Building Type: {btype}\")\n",
    "\n",
    "    def plot_load(self, building_id, year, day):\n",
    "        ds = dict(self.datasets[building_id])\n",
    "\n",
    "        if day < 0 or day >= len(ds[year]):\n",
    "            print(f\"Invalid day index: {day}. Valid range is 0 to {len(ds[year])-1}.\")\n",
    "            return\n",
    "\n",
    "        data = ds[year][day]\n",
    "        dt, _ = self.reconstruct_datetime(data, year)\n",
    "        load = data['load'].squeeze()\n",
    "\n",
    "        lat = float(data['latitude'][0][0])\n",
    "        lon = float(data['longitude'][0][0])\n",
    "        btype = int(data['building_type'][0][0])\n",
    "\n",
    "# ------------------- #\n",
    "# --- Do Not Edit --- #\n",
    "# ------------------- #   \n",
    "\n",
    "# ------------------- #\n",
    "# ------ EDIT ------- #\n",
    "# ------------------- # \n",
    "        \n",
    "        # Do not start editing this section until you have completed the first three TODO tasks in the cell below. \n",
    "        # Once those tasks are complete, you may continue with method update.\n",
    "        plt.figure(figsize=(12, 4))\n",
    "        # TODO: Plot load values against datetime (converted to minute-level resolution)\n",
    "        # TODO: Set x-axis label to 'Datetime'\n",
    "        # TODO: Set y-axis label to 'Load (kW)'\n",
    "        # TODO: Set the plot title with building ID, year, day index, latitude, longitude, and building type\n",
    "        # TODO: Rotate x-axis tick labels for better readability\n",
    "        # TODO: Apply tight layout to prevent label cutoff\n",
    "        # TODO: Display a grid to improve visual clarity \n",
    "        plt.show()\n",
    "        \n",
    "# ------------------- #\n",
    "# ------ EDIT ------- #\n",
    "# ------------------- #\n",
    "\n"
   ]
  },
  {
   "cell_type": "code",
   "execution_count": 17,
   "id": "0beb296a-42b6-469d-84a7-d473f48ea230",
   "metadata": {},
   "outputs": [
    {
     "name": "stderr",
     "output_type": "stream",
     "text": [
      "/global/homes/k/kareem8/.conda/envs/BuildingsBenchEnv/lib/python3.10/site-packages/numpy/core/fromnumeric.py:59: FutureWarning: 'DataFrame.swapaxes' is deprecated and will be removed in a future version. Please use 'DataFrame.transpose' instead.\n",
      "  return bound(*args, **kwds)\n",
      "/global/homes/k/kareem8/.conda/envs/BuildingsBenchEnv/lib/python3.10/site-packages/numpy/core/fromnumeric.py:59: FutureWarning: 'DataFrame.swapaxes' is deprecated and will be removed in a future version. Please use 'DataFrame.transpose' instead.\n",
      "  return bound(*args, **kwds)\n",
      "/global/homes/k/kareem8/.conda/envs/BuildingsBenchEnv/lib/python3.10/site-packages/numpy/core/fromnumeric.py:59: FutureWarning: 'DataFrame.swapaxes' is deprecated and will be removed in a future version. Please use 'DataFrame.transpose' instead.\n",
      "  return bound(*args, **kwds)\n",
      "/global/homes/k/kareem8/.conda/envs/BuildingsBenchEnv/lib/python3.10/site-packages/numpy/core/fromnumeric.py:59: FutureWarning: 'DataFrame.swapaxes' is deprecated and will be removed in a future version. Please use 'DataFrame.transpose' instead.\n",
      "  return bound(*args, **kwds)\n"
     ]
    },
    {
     "name": "stdout",
     "output_type": "stream",
     "text": [
      "Dataset: Electricity\n",
      "Type: <class 'dict'>\n",
      "Building IDs: ['MT_001', 'MT_002', 'MT_003', 'MT_004', 'MT_005', 'MT_006', 'MT_007', 'MT_008', 'MT_009', 'MT_010', 'MT_011', 'MT_012', 'MT_013', 'MT_014', 'MT_015', 'MT_016', 'MT_017', 'MT_018', 'MT_019', 'MT_020', 'MT_021', 'MT_022', 'MT_023', 'MT_024', 'MT_025', 'MT_026', 'MT_027', 'MT_028', 'MT_029', 'MT_030', 'MT_031', 'MT_032', 'MT_033', 'MT_034', 'MT_035', 'MT_036', 'MT_037', 'MT_038', 'MT_039', 'MT_040', 'MT_041', 'MT_042', 'MT_043', 'MT_044', 'MT_045', 'MT_046', 'MT_047', 'MT_048', 'MT_049', 'MT_050', 'MT_051', 'MT_052', 'MT_053', 'MT_054', 'MT_055', 'MT_056', 'MT_057', 'MT_058', 'MT_059', 'MT_060', 'MT_061', 'MT_062', 'MT_063', 'MT_064', 'MT_065', 'MT_067', 'MT_068', 'MT_069', 'MT_070', 'MT_071', 'MT_072', 'MT_073', 'MT_074', 'MT_075', 'MT_076', 'MT_077', 'MT_078', 'MT_079', 'MT_080', 'MT_081', 'MT_082', 'MT_083', 'MT_084', 'MT_085', 'MT_086', 'MT_087', 'MT_088', 'MT_089', 'MT_090', 'MT_091', 'MT_092', 'MT_093', 'MT_094', 'MT_095', 'MT_096', 'MT_097', 'MT_098', 'MT_099', 'MT_100', 'MT_101', 'MT_102', 'MT_103', 'MT_104', 'MT_105', 'MT_106', 'MT_107', 'MT_108', 'MT_110', 'MT_111', 'MT_113', 'MT_114', 'MT_115', 'MT_117', 'MT_118', 'MT_119', 'MT_120', 'MT_121', 'MT_122', 'MT_123', 'MT_124', 'MT_125', 'MT_126', 'MT_127', 'MT_128', 'MT_129', 'MT_134', 'MT_135', 'MT_136', 'MT_137', 'MT_138', 'MT_139', 'MT_140', 'MT_141', 'MT_142', 'MT_143', 'MT_144', 'MT_145', 'MT_146', 'MT_147', 'MT_148', 'MT_149', 'MT_150', 'MT_151', 'MT_152', 'MT_153', 'MT_154', 'MT_155', 'MT_156', 'MT_157', 'MT_158', 'MT_159', 'MT_160', 'MT_161', 'MT_162', 'MT_163', 'MT_164', 'MT_165', 'MT_166', 'MT_167', 'MT_168', 'MT_169', 'MT_170', 'MT_171', 'MT_172', 'MT_173', 'MT_174', 'MT_175', 'MT_176', 'MT_177', 'MT_179', 'MT_180', 'MT_182', 'MT_183', 'MT_184', 'MT_185', 'MT_186', 'MT_187', 'MT_188', 'MT_189', 'MT_190', 'MT_191', 'MT_192', 'MT_193', 'MT_194', 'MT_195', 'MT_196', 'MT_197', 'MT_198', 'MT_199', 'MT_200', 'MT_201', 'MT_202', 'MT_203', 'MT_204', 'MT_205', 'MT_206', 'MT_207', 'MT_208', 'MT_209', 'MT_210', 'MT_211', 'MT_212', 'MT_213', 'MT_214', 'MT_215', 'MT_216', 'MT_217', 'MT_218', 'MT_219', 'MT_220', 'MT_221', 'MT_222', 'MT_224', 'MT_225', 'MT_226', 'MT_227', 'MT_228', 'MT_229', 'MT_230', 'MT_231', 'MT_232', 'MT_233', 'MT_234', 'MT_235', 'MT_236', 'MT_237', 'MT_238', 'MT_239', 'MT_240', 'MT_241', 'MT_242', 'MT_243', 'MT_244', 'MT_245', 'MT_246', 'MT_247', 'MT_248', 'MT_249', 'MT_250', 'MT_251', 'MT_252', 'MT_253', 'MT_254', 'MT_255', 'MT_256', 'MT_257', 'MT_258', 'MT_259', 'MT_260', 'MT_261', 'MT_262', 'MT_263', 'MT_264', 'MT_265', 'MT_266', 'MT_267', 'MT_268', 'MT_269', 'MT_270', 'MT_271', 'MT_272', 'MT_273', 'MT_274', 'MT_275', 'MT_276', 'MT_277', 'MT_278', 'MT_279', 'MT_280', 'MT_281', 'MT_282', 'MT_283', 'MT_284', 'MT_285', 'MT_286', 'MT_287', 'MT_288', 'MT_289', 'MT_290', 'MT_291', 'MT_292', 'MT_293', 'MT_294', 'MT_295', 'MT_296', 'MT_297', 'MT_298', 'MT_299', 'MT_300', 'MT_301', 'MT_302', 'MT_303', 'MT_304', 'MT_305', 'MT_306', 'MT_307', 'MT_308', 'MT_309', 'MT_310', 'MT_311', 'MT_312', 'MT_313', 'MT_314', 'MT_315', 'MT_316', 'MT_317', 'MT_318', 'MT_319', 'MT_320', 'MT_321', 'MT_322', 'MT_323', 'MT_324', 'MT_325', 'MT_326', 'MT_327', 'MT_328', 'MT_329', 'MT_330', 'MT_331', 'MT_332', 'MT_333', 'MT_334', 'MT_335', 'MT_336', 'MT_337', 'MT_338', 'MT_339', 'MT_340', 'MT_341', 'MT_342', 'MT_343', 'MT_344', 'MT_345', 'MT_346', 'MT_349', 'MT_350', 'MT_351', 'MT_352', 'MT_353', 'MT_354', 'MT_355', 'MT_356', 'MT_357', 'MT_358', 'MT_359', 'MT_360', 'MT_361', 'MT_362', 'MT_363', 'MT_364', 'MT_365', 'MT_366', 'MT_367', 'MT_368', 'MT_369', 'MT_370', 'MT_223', 'MT_066']\n",
      "Building ID: MT_193\n",
      "Year: 2012\n",
      "Number of records in MT_193: 358\n",
      "Start date: 2012-01-01T00\n",
      "End date: 2012-12-30T23\n",
      "Latitude: -0.9520\n",
      "Longitude: -5.0578\n",
      "Building Type: 1\n",
      "Building ID: MT_296\n",
      "Year: 2012\n",
      "Number of records in MT_296: 358\n",
      "Start date: 2012-01-01T00\n",
      "End date: 2012-12-30T23\n",
      "Latitude: -0.9520\n",
      "Longitude: -5.0578\n",
      "Building Type: 1\n",
      "Building ID: MT_253\n",
      "Year: 2012\n",
      "Number of records in MT_253: 358\n",
      "Start date: 2012-01-01T00\n",
      "End date: 2012-12-30T23\n",
      "Latitude: -0.9520\n",
      "Longitude: -5.0578\n",
      "Building Type: 1\n"
     ]
    },
    {
     "data": {
      "text/plain": [
       "<Figure size 1200x400 with 0 Axes>"
      ]
     },
     "metadata": {},
     "output_type": "display_data"
    },
    {
     "data": {
      "text/plain": [
       "<Figure size 1200x400 with 0 Axes>"
      ]
     },
     "metadata": {},
     "output_type": "display_data"
    },
    {
     "data": {
      "text/plain": [
       "<Figure size 1200x400 with 0 Axes>"
      ]
     },
     "metadata": {},
     "output_type": "display_data"
    }
   ],
   "source": [
    "# if __name__ == \"__main__\":\n",
    "#     dataset_name = 'Electricity'# Dataset Name\n",
    "#     dataset = load_torch_dataset(dataset_name, apply_scaler_transform='')\n",
    "#     # TODO: Instantiate the EDA class\n",
    "#     # TODO: Run dataset_summary method\n",
    "#     # TODO: Select 3 random building_ids and then run the building_summary method with appropriate data\n",
    "#     # TODO: Update the plot_load function to include code for plotting data\n",
    "#     # TODO: Call the plot_load function and plot for day 1\n",
    "\n",
    "if __name__ == \"__main__\":\n",
    "    dataset_name = 'Electricity'  \n",
    "    dataset = load_torch_dataset(dataset_name, apply_scaler_transform='')\n",
    "\n",
    "    # Instantiate the EDA class\n",
    "    eda = EDA(dataset_name, dataset)\n",
    "\n",
    "    # Run dataset_summary method\n",
    "    eda.dataset_summary()\n",
    "\n",
    "    # Select 3 random building_ids and run the building_summary method\n",
    "    import random\n",
    "    building_ids = list(dataset.building_datasets.keys())\n",
    "    random_ids = random.sample(building_ids, 3)\n",
    "    for building_id in random_ids:\n",
    "        eda.building_summary(building_id, year=2012) # Changed from \"2017\" to 2012\n",
    "\n",
    "    # Update the plot_load function to include code for plotting data\n",
    "    # Call the plot_load function and plot for day 1\n",
    "    for building_id in random_ids:\n",
    "        eda.plot_load(building_id, year=2012, day=0)  # Plot for day 1"
   ]
  },
  {
   "cell_type": "code",
   "execution_count": 14,
   "id": "02530f77",
   "metadata": {},
   "outputs": [
    {
     "name": "stdout",
     "output_type": "stream",
     "text": [
      "Building MT_018 has years: [2014, 2012, 2013]\n",
      "Building MT_239 has years: [2014, 2011, 2012, 2013]\n",
      "Building MT_338 has years: [2014, 2012, 2013]\n"
     ]
    }
   ],
   "source": [
    "for building_id in random_ids:\n",
    "    ds = dict(dataset.building_datasets[building_id])\n",
    "    print(f\"Building {building_id} has years: {list(ds.keys())}\")\n"
   ]
  },
  {
   "cell_type": "markdown",
   "id": "ba2ff824-40ae-4d54-a311-11963634a28e",
   "metadata": {},
   "source": [
    "## Next Step:\n",
    "\n",
    "`/BuildingsBenchTutorial/Tutorials/Final-Project-Modules/Train-Model.ipynb`"
   ]
  }
 ],
 "metadata": {
  "kernelspec": {
   "display_name": "BuildingsBenchEnv",
   "language": "python",
   "name": "python3"
  },
  "language_info": {
   "codemirror_mode": {
    "name": "ipython",
    "version": 3
   },
   "file_extension": ".py",
   "mimetype": "text/x-python",
   "name": "python",
   "nbconvert_exporter": "python",
   "pygments_lexer": "ipython3",
   "version": "3.10.18"
  }
 },
 "nbformat": 4,
 "nbformat_minor": 5
}
