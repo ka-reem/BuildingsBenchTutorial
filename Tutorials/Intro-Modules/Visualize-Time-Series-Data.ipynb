{
 "cells": [
  {
   "cell_type": "markdown",
   "id": "4361e4b5",
   "metadata": {},
   "source": [
    "# Visualize Time-Series Data"
   ]
  },
  {
   "cell_type": "markdown",
   "id": "122cc5a6",
   "metadata": {},
   "source": [
    "In this exercise, you will visualize electricity usage (load) patterns over time using the buildings900ktest dataset from the BuildingsBench benchmark suite. This task introduces an important phase of machine learning model development, exploratory data analysis (EDA), and helps you become familiar with time series data. You will also learn to use the matplotlib module, a widely used Python library for data visualization, to generate plots.\n",
    "\n",
    "In the Explore Datasets section, you will examine the basic features of the dataset, including its type, size, and structure. Understanding these aspects is essential, as they form the foundation for writing code to analyze the data.\n",
    "\n",
    "In the Visualize Dataset section, I recommend reading through the comments carefully to understand the code. You will be modifying and expanding this code to complete the remaining exercises in the tutorial. Familiarity with matplotlib functions will be especially important, as you will use this library to create plots for your final project."
   ]
  },
  {
   "cell_type": "code",
   "execution_count": 1,
   "id": "d4eee7ff",
   "metadata": {},
   "outputs": [],
   "source": [
    "# os to set environment variables\n",
    "# warnings to filter out specific warnings\n",
    "from os import environ\n",
    "from warnings import filterwarnings\n",
    "\n",
    "# numpy for array manipulations\n",
    "# matplotlib.pyplot for generating plots\n",
    "from numpy import concatenate, datetime64, timedelta64\n",
    "from matplotlib.pyplot import figure, plot, show, xlabel, ylabel, xticks, yticks, gcf, title, tight_layout, grid\n",
    "\n",
    "# buildings_bench for loading datasets and data transformations\n",
    "from buildings_bench.transforms import TimestampTransform\n",
    "from buildings_bench import load_torch_dataset,  benchmark_registry\n",
    "\n",
    "# Silence FutureWarning messages\n",
    "filterwarnings(\"ignore\", category=FutureWarning)\n",
    "\n",
    "# Sets an environment variable indicating the path to the dataset\n",
    "environ[\"BUILDINGS_BENCH\"] = \"/global/cfs/cdirs/m4388/Project4/Dataset\""
   ]
  },
  {
   "cell_type": "markdown",
   "id": "ddeb002f",
   "metadata": {},
   "source": [
    "## Explore Dataset"
   ]
  },
  {
   "cell_type": "code",
   "execution_count": 2,
   "id": "8d31c327",
   "metadata": {},
   "outputs": [],
   "source": [
    "# Loads the dataset using a built-in function from the BuildingsBench library\n",
    "dataset = load_torch_dataset('buildings-900k-test')\n",
    "\n",
    "# Retrieves the .building_datasets attribute\n",
    "dataset = dataset.building_datasets"
   ]
  },
  {
   "cell_type": "code",
   "execution_count": null,
   "id": "011bba08",
   "metadata": {},
   "outputs": [],
   "source": [
    "# Prints the type of the dataset object.\n",
    "print('Dataset Type: ', type(dataset))\n",
    "\n",
    "# Prints the number of PUMA regions included in the data\n",
    "print('Dataset Length: ', len(dataset))"
   ]
  },
  {
   "cell_type": "code",
   "execution_count": null,
   "id": "6c4bdf66-ff32-4eb9-bc6f-b26e447c3489",
   "metadata": {
    "scrolled": true
   },
   "outputs": [],
   "source": [
    "# You noticed that the dataset type is dict, which refers to a dictionary in Python. A dictionary is an unordered collection of key-value pairs that allows you\n",
    "# to store and retrieve data efficiently using unique keys.\n",
    "\n",
    "import random\n",
    "\n",
    "# Generate 15 random indices between 1 and 1480 (inclusive)\n",
    "rand_num = [random.randint(1, 1480) for _ in range(15)]\n",
    "rand_num.sort()\n",
    "\n",
    "# Convert keys to a list\n",
    "keys_list = list(dataset.keys())\n",
    "\n",
    "# Get the values at the random indices\n",
    "selected_keys = [keys_list[i] for i in rand_num]\n",
    "\n",
    "# Print the random indices and the corresponding keys\n",
    "print(\"Random indices:\", rand_num)\n",
    "print(\"Selected keys:\", selected_keys)"
   ]
  },
  {
   "cell_type": "markdown",
   "id": "5f2a3c04",
   "metadata": {},
   "source": [
    "## Visualize Dataset\n",
    "\n",
    "The `DataVisualization` class extracts load and timestamp information for a selected `PUMA ID`, converts the time features into a readable datetime format, and plots the load over time. `PUMA` stands for `Public Use Microdata Area`, which is used to identify geographical regions. For more information about `PUMA IDs`, please refer to the following document: `https://www.census.gov/programs-surveys/geography/guidance/geo-areas/pumas.html`.\n",
    "\n",
    "__Acknowldgement__: The code is adapted from the BuildingsBench tutorial and formatted to fit this exercise. The original code can be found here: `https://github.com/NREL/BuildingsBench/blob/main/tutorials/dataset_quick_start.ipynb`"
   ]
  },
  {
   "cell_type": "code",
   "execution_count": null,
   "id": "f775c421",
   "metadata": {},
   "outputs": [],
   "source": [
    "# Define a class for visualizing load time-series\n",
    "class DataVisualization:\n",
    "    def __init__(self, dataset, puma_id, idx=0):\n",
    "        # Get one building entry from specified PUMA and index\n",
    "        self.dataset = dataset[puma_id][idx]\n",
    "  \n",
    "    def load(self):\n",
    "        # Return load (energy usage) values\n",
    "        return self.dataset['load']\n",
    "\n",
    "    def dt(self):\n",
    "        # Convert time features to datetime\n",
    "        timestamp_transform = TimestampTransform()\n",
    "        timestamp = concatenate([\n",
    "            self.dataset['day_of_year'],       # Day index (1–365)\n",
    "            self.dataset['day_of_week'],       # Weekday (0–6)\n",
    "            self.dataset['hour_of_day']], -1)  # Hour (0–23)\n",
    "\n",
    "        # Restore to full timestamp\n",
    "        timestamp = timestamp_transform.undo_transform(timestamp)\n",
    "\n",
    "        # Compute datetime from start date\n",
    "        dt = datetime64('2018-01-01') + timedelta64(1, 'D') * (timestamp[..., 0] - 1) + timedelta64(1, 'h') * timestamp[..., -1]\n",
    "        \n",
    "        # datetime64('2018-01-01'): Base date we start counting from\n",
    "        \n",
    "        # timestamp[..., 0]: Day of the year (1 to 365)\n",
    "        # (timestamp[..., 0] - 1): Subtract 1 so that Jan 1 maps to 0 days\n",
    "        \n",
    "        # timedelta64(1, 'D') * (timestamp[..., 0] - 1): Calculates how many full days to add to the base date\n",
    "        # timestamp[..., -1]: Hour of the day (0 to 23)\n",
    "        # timedelta64(1, 'h') * timestamp[..., -1]: Calculates how many hours to add\n",
    "\n",
    "        return dt\n",
    "\n",
    "    def plot_load(self, dt, load, figsize=(20,6)):\n",
    "        figure(figsize=figsize)               # Establish a figure and its size\n",
    "        # Plot load vs. time with blue line and width 1\n",
    "        plot(dt.reshape(-1), load.reshape(-1), color='blue', linewidth=1)\n",
    "        ylabel('Load (kWh)', fontsize=16)     # Y-axis label\n",
    "        xlabel('Timestamp', fontsize=16)      # X-axis label\n",
    "        yticks(fontsize=12)                   # Y-axis ticks\n",
    "        xticks(fontsize=10)                   # X-axis ticks\n",
    "        show()                                # Display plot\n",
    "\n",
    "    def visualize(self):\n",
    "        # Retrieve datetime and load, then plot them\n",
    "        dt = self.dt()\n",
    "        load = self.load()\n",
    "        self.plot_load(dt, load)\n",
    "\n",
    "if __name__ == \"__main__\":\n",
    "    idx = 322\n",
    "    # Select day index\n",
    "\n",
    "    # Visualize commercial building\n",
    "    x = DataVisualization(dataset=dataset, puma_id='commercial_puma=G42000900/3960', idx=idx)\n",
    "    x.visualize()\n",
    "\n",
    "    # Visualize residential building\n",
    "    x = DataVisualization(dataset=dataset, puma_id='residential_puma=G06000702/233130', idx=idx)\n",
    "    x.visualize()"
   ]
  },
  {
   "cell_type": "markdown",
   "id": "3b34f49f",
   "metadata": {},
   "source": [
    "### Exercise 1"
   ]
  },
  {
   "cell_type": "markdown",
   "id": "59644f0e-f93d-43e9-8413-3a639cd5ec9b",
   "metadata": {},
   "source": [
    "Your task is to visualize the energy load patterns for at least three `commercial` and three `residential` `PUMA IDs`. By changing the `PUMA IDs` while keeping the index (`idx = 0`) fixed, you can analyze how load patterns vary across different buildings. You are encouraged to use the example `PUMA IDs` provided or explore additional ones by printing the dataset keys.\n",
    "\n",
    "Commercial: \n",
    "- `commercial_puma=G42000900/4459` \n",
    "- `commercial_puma=G51059305/257539` \n",
    "- `commercial_puma=G27002300/163223`\n",
    "\n",
    "Residential: \n",
    "- `residential_puma=G42000900/5052` \n",
    "- `residential_puma=G27002300/239152` \n",
    "- `residential_puma=G06000702/168498`"
   ]
  },
  {
   "cell_type": "code",
   "execution_count": 7,
   "id": "1f435d72",
   "metadata": {
    "scrolled": true
   },
   "outputs": [],
   "source": [
    "class DataVisualization:\n",
    "    def __init__(self, dataset, puma_id, idx=0):\n",
    "        self.dataset = dataset[puma_id][idx]\n",
    "  \n",
    "    def load(self):\n",
    "        return self.dataset['load']\n",
    "\n",
    "    def dt(self):\n",
    "        timestamp_transform = TimestampTransform()\n",
    "        timestamp = concatenate([\n",
    "            self.dataset['day_of_year'],    \n",
    "            self.dataset['day_of_week'],\n",
    "            self.dataset['hour_of_day']], -1)\n",
    "        timestamp = timestamp_transform.undo_transform(timestamp)\n",
    "        dt = datetime64(f'2018-01-01') + timedelta64(1, 'D') * (timestamp[...,0]-1) + timedelta64(1, 'h') * timestamp[...,-1]\n",
    "        return dt\n",
    "\n",
    "    def plot_load(self, dt, load, figsize=(20,6)):\n",
    "        figure(figsize=figsize)\n",
    "        plot(dt.reshape(-1), load.reshape(-1), color='blue', linewidth=1)\n",
    "        ylabel('Load (kWh)', fontsize=16)\n",
    "        xlabel('Timestamp', fontsize=16)\n",
    "        yticks(fontsize=12)\n",
    "        xticks(fontsize=10)\n",
    "        show()\n",
    "\n",
    "    def visualize(self):\n",
    "        dt = self.dt()\n",
    "        load = self.load()\n",
    "        self.plot_load(dt, load)\n",
    "        \n",
    "if __name__ == \"__main__\":\n",
    "    # TODO:\n",
    "    # Visualize the load data for idx = 0, 100, and 200 using three PUMA IDs.\n",
    "    # You may use the three example PUMA IDs provided, or explore others of your choice."
   ]
  },
  {
   "cell_type": "markdown",
   "id": "bd321c4d",
   "metadata": {},
   "source": [
    "### Excersice 2"
   ]
  },
  {
   "cell_type": "markdown",
   "id": "bb6217ca-d243-4b33-b934-2d54831faa67",
   "metadata": {},
   "source": [
    "This exercise is similar to `Exercise 1`. However, instead of changing the `PUMA IDs`, you will vary the index value (`idx`). Select one residential and one commercial `PUMA ID` from those used in `Exercise 1`. Each index corresponds to a specific day of the year (ranging from `0` to `364`). By selecting three different index values for each `PUMA ID`, you can observe how load patterns fluctuate over the course of a year at a single location."
   ]
  },
  {
   "cell_type": "code",
   "execution_count": null,
   "id": "eecea925",
   "metadata": {},
   "outputs": [],
   "source": [
    "class DataVisualization:\n",
    "    def __init__(self, dataset, puma_id, idx=0):\n",
    "        self.dataset = dataset[puma_id][idx]\n",
    "  \n",
    "    def load(self):\n",
    "        return self.dataset['load']\n",
    "\n",
    "    def dt(self):\n",
    "        timestamp_transform = TimestampTransform()\n",
    "        timestamp = concatenate([\n",
    "            self.dataset['day_of_year'],    \n",
    "            self.dataset['day_of_week'],\n",
    "            self.dataset['hour_of_day']], -1)\n",
    "        timestamp = timestamp_transform.undo_transform(timestamp)\n",
    "        dt = datetime64(f'2018-01-01') + timedelta64(1, 'D') * (timestamp[...,0]-1) + timedelta64(1, 'h') * timestamp[...,-1]\n",
    "        return dt\n",
    "\n",
    "    def plot_load(self, dt, load, figsize=(20,6)):\n",
    "        figure(figsize=figsize)\n",
    "        plot(dt.reshape(-1), load.reshape(-1), color='blue', linewidth=1)\n",
    "        ylabel('Load (kWh)', fontsize=16)\n",
    "        xlabel('Timestamp', fontsize=16)\n",
    "        yticks(fontsize=12)\n",
    "        xticks(fontsize=10)\n",
    "        show()\n",
    "\n",
    "    def visualize(self):\n",
    "        dt = self.dt()\n",
    "        load = self.load()\n",
    "        self.plot_load(dt, load)\n",
    "        \n",
    "if __name__ == \"__main__\":\n",
    "    # TODO:\n",
    "    # Select one commercial and one residential PUMA ID used in Exercise 1\n",
    "    # Visualize the load data for three different index values within the range [0, 364]"
   ]
  },
  {
   "cell_type": "markdown",
   "id": "57d3202a",
   "metadata": {},
   "source": [
    "### Excersice 3"
   ]
  },
  {
   "cell_type": "markdown",
   "id": "936065b3",
   "metadata": {},
   "source": [
    "In this exercise, instead of visualizing the load on regular days, you will use the same `residential` and `commercial` `PUMA IDs` from `Exercise 2` and select specific index values (`idx`) to observe patterns on U.S. holidays. Use the following index values to visualize the energy load on:\n",
    "\n",
    "1) Martin Luther King Jr. Day → `idx = 14`\n",
    "2) Presidents Day → `idx = 48`\n",
    "3) Memorial Day → `idx = 141`\n",
    "\n",
    "Then, identify an appropriate idx for each of the following two holidays and visualize the load patterns:\n",
    "\n",
    "1) Independence Day → choose an `idx` in the range `[175, 185]`\n",
    "2) Labor Day → choose an `idx` in the range `[235, 245]`"
   ]
  },
  {
   "cell_type": "code",
   "execution_count": null,
   "id": "49291c0c",
   "metadata": {},
   "outputs": [],
   "source": [
    "class DataVisualization:\n",
    "    def __init__(self, dataset, puma_id, idx=0):\n",
    "        self.dataset = dataset[puma_id][idx]\n",
    "  \n",
    "    def load(self):\n",
    "        return self.dataset['load']\n",
    "\n",
    "    def dt(self):\n",
    "        timestamp_transform = TimestampTransform()\n",
    "        timestamp = concatenate([\n",
    "            self.dataset['day_of_year'],    \n",
    "            self.dataset['day_of_week'],\n",
    "            self.dataset['hour_of_day']], -1)\n",
    "        timestamp = timestamp_transform.undo_transform(timestamp)\n",
    "        dt = datetime64(f'2018-01-01') + timedelta64(1, 'D') * (timestamp[...,0]-1) + timedelta64(1, 'h') * timestamp[...,-1]\n",
    "        return dt\n",
    "\n",
    "    def plot_load(self, dt, load, figsize=(20,6)):\n",
    "        figure(figsize=figsize)\n",
    "        plot(dt.reshape(-1), load.reshape(-1), color='blue', linewidth=1)\n",
    "        ylabel('Load (kWh)', fontsize=16)\n",
    "        xlabel('Timestamp', fontsize=16)\n",
    "        yticks(fontsize=12)\n",
    "        xticks(fontsize=10)\n",
    "        show()\n",
    "\n",
    "    def visualize(self):\n",
    "        dt = self.dt()\n",
    "        load = self.load()\n",
    "        self.plot_load(dt, load)\n",
    "        \n",
    "if __name__ == \"__main__\":\n",
    "    # TODO:\n",
    "    # Create an instance of the DataVisualization class.\n",
    "    \n",
    "    # TODO:\n",
    "    # For the PUMA IDs identified in Exercise 2, visualize the load data for the following holidays:\n",
    "    # - Martin Luther King Jr. Day (MLK Day): idx = 14\n",
    "    # - Presidents Day: idx = 48\n",
    "    # - Memorial Day: idx = 141\n",
    "\n",
    "    # TODO:\n",
    "    # Identify the index values (idx) for the following holidays:\n",
    "    # - Independence Day (within the range [175, 185])\n",
    "    # - Labor Day (within the range [235, 245])\n",
    "    # Once identified, visualize the load data for both holidays using the PUMA IDs selected in Exercise 2."
   ]
  },
  {
   "cell_type": "markdown",
   "id": "416419b2",
   "metadata": {},
   "source": [
    "### Excersice 4"
   ]
  },
  {
   "cell_type": "markdown",
   "id": "3860689f",
   "metadata": {},
   "source": [
    "In this exercise, you will generate visualizations of time-series load data across multiple time scales. Your task is to complete the class methods and generate plots for:\n",
    "\n",
    "- The entire year\n",
    "- A selected month\n",
    "- A specific day\n",
    "\n",
    "Each method should extract the relevant time range from the dataset and use the corresponding timestamps and load values to generate a plot. Use formatted strings such as `2018-{month:02d}` or `2018-{month:02d}-{day:02d}` to filter the data by month or day."
   ]
  },
  {
   "cell_type": "code",
   "execution_count": null,
   "id": "20de4732",
   "metadata": {},
   "outputs": [],
   "source": [
    "class DataVisualization:\n",
    "    def __init__(self, dataset, puma_id, idx=0):\n",
    "        self.dataset = dataset[puma_id].df\n",
    "\n",
    "    def plot_load(self, timestamp, load, figsize=(20,6)):\n",
    "        figure(figsize=figsize)\n",
    "        # TODO:\n",
    "        # Implement the plot function using timestamp and load\n",
    "        ylabel('Load (kWh)', fontsize=16)\n",
    "        xlabel('Timestamp', fontsize=16)\n",
    "        yticks(fontsize=12)\n",
    "        xticks(fontsize=10)\n",
    "        show()\n",
    "\n",
    "    def year_plot(self, figsize=(20,6)):\n",
    "        timestamp = self.dataset['power'].index  \n",
    "        load = self.dataset['power'].values\n",
    "        # TODO:\n",
    "        # Use the plot_load method to visualize the entire year's data\n",
    "    \n",
    "    def month_plot(self, month, figsize=(20,6)):\n",
    "        timestamp = self.dataset['power'][f'2018-{month:02d}'].index\n",
    "        # TODO:\n",
    "        # Initialize the corresponding load values for the selected month\n",
    "        # Use the plot_load method to visualize the selected month's data\n",
    "\n",
    "    def day_plot(self, day, month, figsize=(20,6)):\n",
    "        # TODO:\n",
    "        # Filter and initialize both timestamp and load for the given day and month\n",
    "        # Use {day:02d} and {month:02d} to format the date string correctly\n",
    "        # Use the plot_load method to visualize the selected day's data\n",
    "\n",
    "if __name__ == \"__main__\":\n",
    "    # TODO:\n",
    "    # Create an instance of the DataVisualization class\n",
    "    # Call year_plot, month_plot, and day_plot methods to visualize respective data"
   ]
  },
  {
   "cell_type": "markdown",
   "id": "5199da67-a2b8-4563-822b-96e1a7697923",
   "metadata": {},
   "source": [
    "## Next Step: \n",
    "`/BuildingsBenchTutorial/Tutorials/Intro-Modules/Intro-PyTorch.ipynb`"
   ]
  }
 ],
 "metadata": {
  "kernelspec": {
   "display_name": "BuildingsBenchKernel",
   "language": "python",
   "name": "buildingsbenchenv"
  },
  "language_info": {
   "codemirror_mode": {
    "name": "ipython",
    "version": 3
   },
   "file_extension": ".py",
   "mimetype": "text/x-python",
   "name": "python",
   "nbconvert_exporter": "python",
   "pygments_lexer": "ipython3",
   "version": "3.10.13"
  }
 },
 "nbformat": 4,
 "nbformat_minor": 5
}
