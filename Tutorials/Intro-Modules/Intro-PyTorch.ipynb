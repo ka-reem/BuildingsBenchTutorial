{
 "cells": [
  {
   "cell_type": "markdown",
   "id": "396d543f",
   "metadata": {},
   "source": [
    "# PyTorch 101\n",
    "\n",
    "In my opinion, PyTorch is one of the most, if not the most, sought-after skills in today’s market. Proficiency in this library significantly increases your chances of securing a job or internship, even in the current job market. From job openings at tech companies like NVIDIA and Meta to national labs such as Oak Ridge National Laboratory, PyTorch is frequently listed as a required skill.\n",
    "\n",
    "The library itself is extensive, and I believe a one-week bootcamp may not be sufficient to cover it in depth. Therefore, it’s not feasible to address every aspect of PyTorch in this short tutorial. However, this tutorial aims to introduce you to PyTorch tensors, the fundamental data structure used in deep learning. \n",
    "\n",
    "In this tutorial, we explore the characteristics and operations of tensors, along with commonly used methods for tensor manipulation. This includes understanding tensor shape, dimensionality, accessing individual elements, performing mathematical operations, and reshaping tensors. The tutorial introduces foundational yet widely applicable tasks that are commonly used in both model training and code debugging."
   ]
  },
  {
   "cell_type": "code",
   "execution_count": null,
   "id": "7f533c98",
   "metadata": {},
   "outputs": [],
   "source": [
    "# Load PyTorch module\n",
    "import torch"
   ]
  },
  {
   "cell_type": "markdown",
   "id": "a550cf32-6aa9-4981-8525-df51762e6b7e",
   "metadata": {},
   "source": [
    "## Tensor Characteristics"
   ]
  },
  {
   "cell_type": "code",
   "execution_count": null,
   "id": "01e13564",
   "metadata": {},
   "outputs": [],
   "source": [
    "# Define a 2D list (3 rows x 2 columns)\n",
    "data = [[1,2], [3,4], [5,6]]\n",
    "\n",
    "# Convert the list into a PyTorch tensor\n",
    "tensor_data = torch.tensor(data)\n",
    "\n",
    "# Print the tensor content\n",
    "print(f'Tensor Data: \\n{tensor_data}')\n",
    "# Display the data type (should be torch.Tensor)\n",
    "print(f'Tensor Type: {type(tensor_data)}')\n",
    "# Display the shape of the tensor (3, 2)\n",
    "print(f'Tensor Shape: {tensor_data.shape}')\n",
    "# Access the element in row index 1 and column index 1 (i.e., second row, second column)\n",
    "print(f'Access Element [X-axis 2 || Y-axis 1]: {tensor_data[1][0]}')"
   ]
  },
  {
   "cell_type": "code",
   "execution_count": null,
   "id": "ae116084-d1db-405e-b966-0664df2cd11f",
   "metadata": {},
   "outputs": [],
   "source": [
    "# Create a 3D tensor with shape [4, 4, 4] filled with random values\n",
    "shape = (4,4,4)\n",
    "rand_tensor = torch.rand(shape)\n",
    "\n",
    "print(f'Tensor Data: \\n{rand_tensor}')\n",
    "# Access the 4th element along the X-axis (i.e., index 3)\n",
    "print(f'Access Elements [X-axis 4]: \\n{rand_tensor[3]}')\n",
    "# Access the 2nd element (index 1) along the Y-axis of the 4th X-slice\n",
    "print(f'Access Elements [X-axis 4 | Y-axis 2]: {rand_tensor[3][1]}')\n",
    "# Access the 1st element (index 0) along the Z-axis of the [X=4, Y=2] slice\n",
    "print(f'Access Elements [X-axis 4 | Y-axis 2 | Z-axis 1]: {rand_tensor[3][1][0]}')"
   ]
  },
  {
   "cell_type": "markdown",
   "id": "36a9b5db",
   "metadata": {},
   "source": [
    "## Excersice 1"
   ]
  },
  {
   "cell_type": "code",
   "execution_count": 69,
   "id": "a14f4e47-1f47-4a90-9084-45bd27b83711",
   "metadata": {},
   "outputs": [],
   "source": [
    "# TODO:\n",
    "# Create a tensor with shape torch.Size([3, 3])\n",
    "# Access the following elements:\n",
    "# 1) Element at row 1, column 3  → tensor[0][2]\n",
    "# 2) Element at row 3, column 2  → tensor[2][1]"
   ]
  },
  {
   "cell_type": "markdown",
   "id": "90cc1412",
   "metadata": {},
   "source": [
    "## Excersice 2"
   ]
  },
  {
   "cell_type": "code",
   "execution_count": 70,
   "id": "1bdb6114",
   "metadata": {},
   "outputs": [],
   "source": [
    "# TODO:\n",
    "# Create two tensors with shape (5, 2, 3): one filled with zeros and the other with ones.\n",
    "# Display (visualize) both tensors.\n",
    "# Hint: Use .zeros or .ones instead of .rand to initialize the tensors."
   ]
  },
  {
   "cell_type": "markdown",
   "id": "43eb016d-a226-4888-8a04-5e2f837ae375",
   "metadata": {},
   "source": [
    "## Tensor Operations"
   ]
  },
  {
   "cell_type": "code",
   "execution_count": null,
   "id": "95415480",
   "metadata": {},
   "outputs": [],
   "source": [
    "tensor_a = torch.arange(10)\n",
    "tensor_b = torch.linspace(10,19,10)\n",
    "\n",
    "tensor_c = tensor_a + tensor_b\n",
    "print(f'Tensor Addition: {tensor_c}')"
   ]
  },
  {
   "cell_type": "markdown",
   "id": "d2f5bafb-cbb5-4ecd-914e-b7131f2bca3c",
   "metadata": {},
   "source": [
    "## Excersice 3"
   ]
  },
  {
   "cell_type": "code",
   "execution_count": 72,
   "id": "6b3ba665",
   "metadata": {},
   "outputs": [],
   "source": [
    "# TODO:\n",
    "# Perform element-wise subtraction, multiplication, and division between tensor_a and tensor_b."
   ]
  },
  {
   "cell_type": "markdown",
   "id": "44b9b1ae-0430-4550-aa19-335cabb266f4",
   "metadata": {},
   "source": [
    "## Torch Methods"
   ]
  },
  {
   "cell_type": "code",
   "execution_count": null,
   "id": "1532cbfa",
   "metadata": {},
   "outputs": [],
   "source": [
    "# Create a 1D tensor with 12 random values\n",
    "torch_tensor = torch.rand(12)\n",
    "print(f'Original Tensor: \\n{torch_tensor}')\n",
    "print(f'Original Tensor Shape: {torch_tensor.shape}')\n",
    "\n",
    "# Reshape the tensor to shape (3, 4, 1)\n",
    "reshape_tensor = torch.reshape(torch_tensor, (3,4,1))\n",
    "print(f'Reshape Tensor: \\n{reshape_tensor}')\n",
    "print(f'Reshape Tensor Shape: {reshape_tensor.shape}')"
   ]
  },
  {
   "cell_type": "markdown",
   "id": "046ec9ad",
   "metadata": {},
   "source": [
    "## Excersice 4"
   ]
  },
  {
   "cell_type": "code",
   "execution_count": 74,
   "id": "0c577393-2d27-4492-9d20-6de4606c1e0f",
   "metadata": {},
   "outputs": [],
   "source": [
    "# TODO\n",
    "# Create a tensor of size (3, 4) and print the tensor and its shape\n",
    "# Transpose the tensor using 3 different combinations of dimensions of your choice\n",
    "# Transpose documentation: https://pytorch.org/docs/stable/generated/torch.transpose.html\n",
    "# Print each transposed tensor and its shape to visualize the differences \n",
    "# between the transposed versions and the original tensor\n",
    "\n",
    "# TODO\n",
    "# Create a tensor of size (3, 1, 1) and print the tensor and its shape\n",
    "# Concatenate 4 such rand_tensors into one tensor\n",
    "# Concatenate: https://pytorch.org/docs/stable/generated/torch.cat.html\n",
    "# Print the concatenated tensor and its shape using dim=0, dim=1, and dim=2 \n",
    "# to visualize the difference between the concatenated tensor and the original"
   ]
  },
  {
   "cell_type": "markdown",
   "id": "7e5afa83-0d25-4fe1-b47f-2a03c334ef0b",
   "metadata": {},
   "source": [
    "## Next Step: \n",
    "`/BuildingsBenchTutorial/Tutorials/Intro-Modules/Intro-NN.ipynb`"
   ]
  }
 ],
 "metadata": {
  "kernelspec": {
   "display_name": "BuildingsBenchKernel",
   "language": "python",
   "name": "buildingsbenchenv"
  },
  "language_info": {
   "codemirror_mode": {
    "name": "ipython",
    "version": 3
   },
   "file_extension": ".py",
   "mimetype": "text/x-python",
   "name": "python",
   "nbconvert_exporter": "python",
   "pygments_lexer": "ipython3",
   "version": "3.10.13"
  }
 },
 "nbformat": 4,
 "nbformat_minor": 5
}
