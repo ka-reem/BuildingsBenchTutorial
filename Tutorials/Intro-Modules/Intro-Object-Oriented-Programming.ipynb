{
 "cells": [
  {
   "cell_type": "markdown",
   "id": "07710e5b",
   "metadata": {},
   "source": [
    "## Object Oriented Programming (OOP) 101"
   ]
  },
  {
   "cell_type": "markdown",
   "id": "55364342",
   "metadata": {},
   "source": [
    "We want to introduce you to `OOP` because it is an essential skill in the design and development of machine learning algorithms. `OOP` is a widely used programming paradigm, supported by many popular languages such as `Python`, `C`, and `Java`. Compared to the procedural programming paradigm, `OOP` organizes code into user-defined classes and objects, enabling machine learning engineers to design modular, reusable, and scalable programs. Most importantly, essential deep learning libraries such as `PyTorch` and `TensorFlow` are built on the OOP paradigm, so having a basic understanding enables us to fully leverage their capabilities."
   ]
  },
  {
   "cell_type": "markdown",
   "id": "7b0c1522-12ad-4c32-8db0-5ab4b1719d91",
   "metadata": {},
   "source": [
    "## Introduction to Core Concepts\n",
    "\n",
    "In the example below, the `MyCalculator` class includes methods for addition and calculating percentages. First, read through the code and accompanying comments to understand its functionality. Then, review the definitions of the key OOP concepts."
   ]
  },
  {
   "cell_type": "code",
   "execution_count": 1,
   "id": "3fcc365f-e48e-416b-8144-d8c215b25fcf",
   "metadata": {
    "scrolled": true
   },
   "outputs": [
    {
     "name": "stdout",
     "output_type": "stream",
     "text": [
      "Addition: 15\n",
      "Percentage: 1.5\n",
      "Percentage: 3.0\n"
     ]
    }
   ],
   "source": [
    "# Concept 1: `MyCalculator` is a class that provides two methods: `Add` and `Percentage`.\n",
    "class MyCalculator:  \n",
    "    # Concept 2: The `__init__` method takes `parameter_1` and `parameter_2` and assigns them to instance variables.\n",
    "    def __init__(self, parameter_1, parameter_2):  \n",
    "        # Concept 3: `self.parameter_1` and `self.parameter_2` are instance variables.\n",
    "        self.parameter_1 = parameter_1                          \n",
    "        self.parameter_2 = parameter_2                          \n",
    "\n",
    "    # Concept 4: `Add()` and `Percentage()` are instance methods that use instance variables to perform operations.\n",
    "    # Returns the sum of both parameters\n",
    "    def Add(self):                                            \n",
    "        return self.parameter_1 + self.parameter_2      \n",
    "\n",
    "    # Returns the given percentage of the sum\n",
    "    def Percentage(self, percent=10):  \n",
    "        # Concept 5: In Percentage(self, percent=10), `percent` is a default parameter that defaults to 10 if no value is provided when the method is called.\n",
    "        return self.Add() * percent / 100\n",
    "\n",
    "# Concept 6: Main Guard Block\n",
    "if __name__ == \"__main__\":\n",
    "    # Concept 7: Creates an object of the `MyCalculator` class called `calc`, and sets `parameter_1` to 5 and `parameter_2` to 10.\n",
    "    calc = MyCalculator(5, 10)                                  \n",
    "    \n",
    "    # Perform addition (5 + 10 = 15)\n",
    "    x = calc.Add()\n",
    "    print(f'Addition: {x}')\n",
    "\n",
    "    # Calculate 10 percent of the sum (15), using the default value\n",
    "    y = calc.Percentage() \n",
    "    print(f'Percentage: {y}')\n",
    "    \n",
    "    # Calculate 20 percent of the sum (15)\n",
    "    y = calc.Percentage(20)\n",
    "    print(f'Percentage: {y}')"
   ]
  },
  {
   "cell_type": "markdown",
   "id": "e6dc8ad5-ff76-4ed0-baf2-c82744d16bef",
   "metadata": {},
   "source": [
    "1) __Class__ (`MyCalculator`): A class is a blueprint for creating objects. It defines the data (attributes) and behavior (methods) an object should have.\n",
    "2) __Constructor__ (`__init__`): A constructor is a special method that runs automatically when an object is created. It initializes the object's internal state.\n",
    "3) __Instance Variables__ (`self.parameter_1` & `self.parameter_2`): These are variables that belong to a specific object and are defined using self.\n",
    "4) __Instance Methods__ (`Add()` & `Percentage()`): These are functions defined inside a class that operate on the object’s data. They always take self as the first argument.\n",
    "5) __Default Arguments__ (`Percentage(self, percent=10)`): These allow methods to have optional parameters with default values.\n",
    "6) __Main Guard__ (`if __name == __\"main\"__`): This condition ensures that code inside it runs only when the file is executed directly, not when imported as a module.\n",
    "7) __Object Instantiation__ (`x = calc.Add()` & `y = calc.Percentage()`): This refers to creating an instance (object) of a class using its constructor."
   ]
  },
  {
   "cell_type": "markdown",
   "id": "9866f140",
   "metadata": {},
   "source": [
    "## Excersice 1"
   ]
  },
  {
   "cell_type": "code",
   "execution_count": 3,
   "id": "75806439",
   "metadata": {},
   "outputs": [
    {
     "name": "stdout",
     "output_type": "stream",
     "text": [
      "Subtraction: 15\n",
      "Multiplication: 50\n",
      "Division: 2.0\n"
     ]
    }
   ],
   "source": [
    "class MyCalculator:                                             \n",
    "    def __init__(self, parameter_1, parameter_2):          \n",
    "        self.parameter_1 = parameter_1                          \n",
    "        self.parameter_2 = parameter_2   \n",
    "\n",
    "    def Add(self):                                              \n",
    "        return self.parameter_2 + self.parameter_1   \n",
    "\n",
    "    # Add a `Subtract` method implementing `parameter_2` - `parameter_1`\n",
    "    def Subtract(self):\n",
    "        return self.parameter_2 + self.parameter_1\n",
    "\n",
    "\n",
    "    # TODO:\n",
    "    # Add a `Multiply` method implementing `parameter_1` * `parameter_2`\n",
    "    def Multiply(self):\n",
    "        return self.parameter_2 * self.parameter_1\n",
    "\n",
    "    # TODO:\n",
    "    # Add a `Divide` method implementing `parameter_1` divided by `parameter_2`\n",
    "    def Divide(self):\n",
    "        return self.parameter_1 / self.parameter_2 if self.parameter_2 != 0 else print(\"error\")\n",
    "\n",
    "if __name__ == \"__main__\":\n",
    "\n",
    "    # Create an instance of `MyCalculator`\n",
    "    calc = MyCalculator(10, 5)  \n",
    "          \n",
    "    # Call the `Subtract` method and print the result \n",
    "    print(\"Subtraction:\", calc.Subtract())\n",
    "    \n",
    "    # Call the `Multiply` method and print the result\n",
    "    print(\"Multiplication:\", calc.Multiply())\n",
    "\n",
    "    # Call the `Divide` method and print the result\n",
    "    print(\"Division:\", calc.Divide())\n",
    "    "
   ]
  },
  {
   "cell_type": "markdown",
   "id": "8adbbe96-7591-428c-ae97-228651830212",
   "metadata": {},
   "source": [
    "## OOP Inheritance"
   ]
  },
  {
   "cell_type": "markdown",
   "id": "a6a41923-b42a-4acd-8da3-9c24016c0293",
   "metadata": {},
   "source": [
    "We extend our example to introduce the concept of inheritance. By inheriting from another class, a class can access the functionalities of the inherited class. In this example `MyCalculator` is a base class with a method called `power_2`, which returns the square of a given number. The `Circle` class inherits from `MyCalculator`, allowing it to use the `power_2` method within its own `area` method."
   ]
  },
  {
   "cell_type": "code",
   "execution_count": null,
   "id": "07bfdf8f",
   "metadata": {
    "scrolled": true
   },
   "outputs": [],
   "source": [
    "# Base class for mathematical operations\n",
    "class MyCalculator:                                   \n",
    "    def __init__(self):   \n",
    "        # Constructor for the base class (no initialization required)\n",
    "        pass                                          \n",
    "                                  \n",
    "    def power_2(self, parameter_1):                   \n",
    "        # Returns the square of the input value (`parameter_1`^2)\n",
    "        return parameter_1 * parameter_1\n",
    "\n",
    "# Circle class inherits from `MyCalculator`\n",
    "class Circle(MyCalculator):                       \n",
    "    def __init__(self, radius, pi=3.14):  \n",
    "        # Call the constructor of the base class\n",
    "        super().__init__()                            \n",
    "        self.radius = radius    # Store the radius of the circle     \n",
    "        self.pi = pi            # Store the value of `π` (default is 3.14)\n",
    "\n",
    "    # Method to compute the area of the circle\n",
    "    def area(self):                                   \n",
    "        # Uses the inherited `power_2` method to square the radius\n",
    "        # Applies the formula: area = π × r²\n",
    "        return self.power_2(self.radius) * self.pi         \n",
    "       \n",
    "if __name__ == \"__main__\":\n",
    "    # Create an instance of the Circle class with radius = 5\n",
    "    calc = Circle(5)                              \n",
    "\n",
    "    # Compute the area of the circle\n",
    "    x = calc.area()\n",
    "    \n",
    "    # Print the calculated area\n",
    "    print(f'Area: {x}')      "
   ]
  },
  {
   "cell_type": "markdown",
   "id": "e2c768d5",
   "metadata": {},
   "source": [
    "## Excersice 2"
   ]
  },
  {
   "cell_type": "code",
   "execution_count": null,
   "id": "3abdce22",
   "metadata": {},
   "outputs": [],
   "source": [
    "class MyCalculator:                                   \n",
    "    def __init__(self):                               \n",
    "        pass    \n",
    "    \n",
    "    def power_2(self, parameter_1):                   \n",
    "        return parameter_1 * parameter_1                                  \n",
    "                   \n",
    "    # TODO:\n",
    "    # Create a method named `power_3` to calculate (`parameter_1` * `parameter_1` * `parameter_1`)\n",
    "    def power_3(self, parameter_1):\n",
    "        return parameter_1 * parameter_1 * parameter_1\n",
    "\n",
    "class Cylinder():\n",
    "    # TODO:\n",
    "    # Inherit from `MyCalculator`\n",
    "    # Define a constructor that takes radius, height, and pi as parameters\n",
    "    # Implement a method to calculate the volume of the cylinder using the formula: pi * r^2 * h\n",
    "    # Use the `power_2` method from MyCalculator to compute r^2\n",
    "\n",
    "class Sphere():\n",
    "    # TODO:\n",
    "    # Inherit from `MyCalculator`\n",
    "    # Define a constructor that takes radius and pi as parameters\n",
    "    # Implement a method to calculate the volume of the sphere using the formula: (4/3) * pi * r^3   \n",
    "    # Use the `power_3` method from MyCalculator to compute r^3      \n",
    "\n",
    "if __name__ == \"__main__\":\n",
    "    # TODO:\n",
    "    # Create an instance of the `Cylinder` class with a radius of 5 and height of 10\n",
    "    # Call the volume method and print the result\n",
    "\n",
    "    # TODO:\n",
    "    # Create an instance of the `Sphere` class with a radius of 5\n",
    "    # Call the volume method and print the result"
   ]
  },
  {
   "cell_type": "markdown",
   "id": "4a669b6a",
   "metadata": {},
   "source": [
    "## Next Step: \n",
    "`/BuildingsBenchTutorial/Tutorials/Intro-Modules/Visualize-Time-Series-Data.ipynb`\n",
    "\n",
    "## References \n",
    "\n",
    "[1] https://www.geeksforgeeks.org/python-oops-concepts/\n",
    "\n",
    "[2] https://www.indeed.com/career-advice/career-development/what-is-object-oriented-programming"
   ]
  }
 ],
 "metadata": {
  "kernelspec": {
   "display_name": "BuildingsBenchKernel-New",
   "language": "python",
   "name": "buildingsbenchenv"
  },
  "language_info": {
   "codemirror_mode": {
    "name": "ipython",
    "version": 3
   },
   "file_extension": ".py",
   "mimetype": "text/x-python",
   "name": "python",
   "nbconvert_exporter": "python",
   "pygments_lexer": "ipython3",
   "version": "3.10.13"
  }
 },
 "nbformat": 4,
 "nbformat_minor": 5
}
